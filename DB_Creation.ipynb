{
 "cells": [
  {
   "cell_type": "code",
   "execution_count": 19,
   "id": "be0786ad",
   "metadata": {},
   "outputs": [],
   "source": [
    "#Importing necessary libraries\n",
    "import pandas as pd\n",
    "import pymysql"
   ]
  },
  {
   "cell_type": "code",
   "execution_count": 20,
   "id": "570cf3a8",
   "metadata": {},
   "outputs": [],
   "source": [
    "#MySQL Connection setup\n",
    "connection = pymysql.connect(\n",
    "    host = 'localhost',\n",
    "    user ='root',\n",
    "    password = 'Refolin@2293',\n",
    "    autocommit =True\n",
    ")\n",
    "cursor = connection.cursor()"
   ]
  },
  {
   "cell_type": "code",
   "execution_count": 21,
   "id": "31120214",
   "metadata": {},
   "outputs": [
    {
     "name": "stdout",
     "output_type": "stream",
     "text": [
      "<pymysql.cursors.Cursor object at 0x0000017FE192F1C0>\n"
     ]
    }
   ],
   "source": [
    "#Getting the cursor details\n",
    "print(cursor)"
   ]
  },
  {
   "cell_type": "code",
   "execution_count": 22,
   "id": "c13f6cee",
   "metadata": {},
   "outputs": [
    {
     "data": {
      "text/plain": [
       "0"
      ]
     },
     "execution_count": 22,
     "metadata": {},
     "output_type": "execute_result"
    }
   ],
   "source": [
    "#Creating the \"BigMart\" database\n",
    "cursor.execute(\"CREATE DATABASE IF NOT EXISTS BigMart;\")\n",
    "cursor.execute(\"USE BigMart;\")"
   ]
  },
  {
   "cell_type": "code",
   "execution_count": 23,
   "id": "a89622fa",
   "metadata": {},
   "outputs": [],
   "source": [
    "#Loading the 3 xml files\n",
    "df_item = pd.read_xml(\"df_item.xml\")\n",
    "df_outlet=pd.read_xml(\"df_outlet.xml\")\n",
    "df_sales=pd.read_xml(\"df_sales.xml\")"
   ]
  },
  {
   "cell_type": "code",
   "execution_count": 24,
   "id": "4ecbb12e",
   "metadata": {},
   "outputs": [],
   "source": [
    "# Creating function for creating tables \n",
    "def create_table_from_df(df, table_name):\n",
    "    cols = []\n",
    "    for col in df.columns:\n",
    "        dtype = df[col].dtype\n",
    "        if 'int' in str(dtype):\n",
    "            sql_type = 'INT'\n",
    "        elif 'float' in str(dtype):\n",
    "            sql_type = 'FLOAT'\n",
    "        else:\n",
    "            sql_type = 'VARCHAR(255)'\n",
    "        cols.append(f\"{col} {sql_type}\")\n",
    "\n",
    "    columns_sql = \", \".join(cols)\n",
    "    create_sql = f\"CREATE TABLE IF NOT EXISTS {table_name} ({columns_sql})\"\n",
    "    cursor.execute(create_sql)"
   ]
  },
  {
   "cell_type": "code",
   "execution_count": 25,
   "id": "06f58f16",
   "metadata": {},
   "outputs": [],
   "source": [
    "#Creating table in database\n",
    "create_table_from_df(df_item, \"item_info\")\n",
    "create_table_from_df(df_outlet, \"outlet_info\")\n",
    "create_table_from_df(df_sales, \"sales_info\")"
   ]
  },
  {
   "cell_type": "code",
   "execution_count": 26,
   "id": "ed3948dd",
   "metadata": {},
   "outputs": [],
   "source": [
    "def insert_data(df,table_name):\n",
    "    df = df.where(pd.notnull(df), None)\n",
    "    cols=\",\".join([f\"`{col}`\" for col in df.columns])\n",
    "    placeholders = \",\".join([\"%s\"] * len(df.columns))\n",
    "    insert_sql = f\"INSERT INTO `{table_name}` ({cols}) VALUES ({placeholders})\"\n",
    "    data = [tuple(row) for row in df.itertuples(index = False, name = None)]\n",
    "    cursor.executemany(insert_sql, data)"
   ]
  },
  {
   "cell_type": "code",
   "execution_count": 27,
   "id": "546cbb5c",
   "metadata": {},
   "outputs": [],
   "source": [
    "#Inserting the data into MYSQL Tables\n",
    "insert_data(df_item, 'item_info')\n",
    "insert_data(df_outlet, 'outlet_info')\n",
    "insert_data(df_sales, 'sales_info')\n"
   ]
  },
  {
   "cell_type": "code",
   "execution_count": 28,
   "id": "84cb2740",
   "metadata": {},
   "outputs": [],
   "source": [
    "# Closing the connection \n",
    "cursor.close()\n",
    "connection.close()"
   ]
  },
  {
   "cell_type": "code",
   "execution_count": null,
   "id": "145ae01f",
   "metadata": {},
   "outputs": [],
   "source": []
  }
 ],
 "metadata": {
  "kernelspec": {
   "display_name": "Python 3 (ipykernel)",
   "language": "python",
   "name": "python3"
  },
  "language_info": {
   "codemirror_mode": {
    "name": "ipython",
    "version": 3
   },
   "file_extension": ".py",
   "mimetype": "text/x-python",
   "name": "python",
   "nbconvert_exporter": "python",
   "pygments_lexer": "ipython3",
   "version": "3.9.13"
  }
 },
 "nbformat": 4,
 "nbformat_minor": 5
}
